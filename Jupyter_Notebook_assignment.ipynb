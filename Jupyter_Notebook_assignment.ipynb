{
  "metadata": {
    "language_info": {
      "codemirror_mode": {
        "name": "python",
        "version": 3
      },
      "file_extension": ".py",
      "mimetype": "text/x-python",
      "name": "python",
      "nbconvert_exporter": "python",
      "pygments_lexer": "ipython3",
      "version": "3.8"
    },
    "kernelspec": {
      "name": "python",
      "display_name": "Pyolite",
      "language": "python"
    }
  },
  "nbformat_minor": 4,
  "nbformat": 4,
  "cells": [
    {
      "cell_type": "markdown",
      "source": "# My Jupyter Notebook on IBM Watson Studio",
      "metadata": {}
    },
    {
      "cell_type": "markdown",
      "source": "My name is __Malina__ and ",
      "metadata": {}
    },
    {
      "cell_type": "markdown",
      "source": "I'm studying to become a Data Analyst",
      "metadata": {}
    },
    {
      "cell_type": "markdown",
      "source": "*I am interested in data science because I'm passionate about data and this industry is very actual as well as a good investment for the future.*",
      "metadata": {}
    },
    {
      "cell_type": "markdown",
      "source": "### Line 5 is supposed to generate a random number between 0 and 50.",
      "metadata": {}
    },
    {
      "cell_type": "code",
      "source": "import random\nprint(random.randint(0,50))",
      "metadata": {
        "trusted": true
      },
      "execution_count": 15,
      "outputs": [
        {
          "name": "stdout",
          "text": "46\n",
          "output_type": "stream"
        }
      ]
    },
    {
      "cell_type": "markdown",
      "source": "|No| first name  | last name | age |\n|--| ----------- | --------- | --- |\n|1.| Julia | Smith | 26 |\n|2.| Marcus | Brown | 31 |\n|3.| Jason | Miller | 19 |\n\n![alt text](https://www.humanesociety.org/sites/default/files/styles/1240x698/public/2020-07/kitten-510651.jpg?h=f54c7448&itok=ZhplzyJ9)\n[More cat pictures here:](https://www.pexels.com/collections/cute-cats-ptg7ywo/)\n",
      "metadata": {}
    }
  ]
}